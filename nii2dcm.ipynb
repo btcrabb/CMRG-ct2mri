{
 "cells": [
  {
   "cell_type": "code",
   "execution_count": 7,
   "metadata": {},
   "outputs": [
    {
     "name": "stdout",
     "output_type": "stream",
     "text": [
      "Python: 3.6.8 |Anaconda, Inc.| (default, Feb 21 2019, 18:30:04) [MSC v.1916 64 bit (AMD64)]\n",
      "Pydicom: 2.2.1\n",
      "Numpy: 1.19.5\n",
      "Nibabel: 3.2.1\n"
     ]
    }
   ],
   "source": [
    "import os\n",
    "import sys\n",
    "import pydicom\n",
    "import numpy as np\n",
    "import nibabel as nib\n",
    "\n",
    "print('Python: {}'.format(sys.version))\n",
    "print('Pydicom: {}'.format(pydicom.__version__))\n",
    "print('Numpy: {}'.format(np.__version__))\n",
    "print('Nibabel: {}'.format(nib.__version__))"
   ]
  },
  {
   "cell_type": "code",
   "execution_count": 8,
   "metadata": {},
   "outputs": [],
   "source": [
    "############# PARAMETERS ###################\n",
    "INPUT = './cteph_gz_files/'                             # input path to nii files\n",
    "INPUT_DCM = './CTEPH CineCT Scans/CTEPH CineCT Scans/'  # input path to the corresponding dicom files\n",
    "OUT_PATH = './ct_volumes_test/'                         # path to save generated dicom files"
   ]
  },
  {
   "cell_type": "code",
   "execution_count": 9,
   "metadata": {},
   "outputs": [],
   "source": [
    "def create_dicoms(image, dcm, out_path, starting_pos=-100.0):\n",
    "    \n",
    "    \"\"\"\n",
    "    Creates dicom files corresponding to each slice of a nii file.\n",
    "    \n",
    "    Inputs: \n",
    "        image - nii image file (opened, image data extracted)\n",
    "        dcm - corresponding dicom header (dicom header opened with pydicom)\n",
    "        starting_pos - location in space to start first slice (float)\n",
    "        \n",
    "    Returns:\n",
    "        None \n",
    "    \"\"\"\n",
    "    \n",
    "    # extract necessary info from dicom headers\n",
    "    patientID = str(dcm[0x0008, 0x0090].value)\n",
    "    \n",
    "    series = dcm.SeriesNumber\n",
    "    old_id = dcm.SOPInstanceUID\n",
    "    studyID = dcm[0x0020, 0x0010].value\n",
    "\n",
    "    pos = starting_pos\n",
    "    spacing = dcm.SliceThickness\n",
    "    dcm.add_new([0x0028,0x0008], 'US', image.shape[3])\n",
    "\n",
    "    # iterate over each position in the nii volume\n",
    "    for i in range(image.shape[2]):\n",
    "\n",
    "        # find new filename, update instance number\n",
    "        patient_pos = dcm[0x0020, 0x0032].value\n",
    "        patient_pos[2] = pos\n",
    "        dcm[0x0020, 0x0032].value = patient_pos\n",
    "\n",
    "        dcm.SliceLocation = pos\n",
    "        dcm[0x0027, 0x1050].value = pos\n",
    "        dcm[0x0027, 0x1051].value = pos\n",
    "        dcm[0x0027, 0x1044].value = pos\n",
    "\n",
    "        # decrease position by spacing amount\n",
    "        pos -= spacing\n",
    "\n",
    "        # get image slice from nii\n",
    "        data_new = image[:,:,i,:]\n",
    "        out_array = np.moveaxis(data_new, 2, 0)\n",
    "        \n",
    "        # save a dicom for each time point\n",
    "        for j in range(out_array.shape[0]):\n",
    "            \n",
    "            dcm.InstanceNumber = i*10 + j\n",
    "            dcm.AcquisitionNumber = j\n",
    "            \n",
    "            new_id = old_id + '.{}.{}'.format(i,j)\n",
    "            dcm.SOPInstanceUID = new_id\n",
    "\n",
    "            # copy the data back to the original dcm\n",
    "            out = out_array[j,:,:]\n",
    "            dcm.PixelData = out.tobytes()\n",
    "\n",
    "            # update the information regarding the shape of the data array\n",
    "            dcm.Rows, dcm.Columns, _ = data_new.shape\n",
    "\n",
    "            if not os.path.isdir(out_path + patientID):\n",
    "                os.mkdir(out_path + patientID)\n",
    "            \n",
    "            out_filename = '{}_{}_{}.dcm'.format(series, i, j)\n",
    "            dcm.save_as(out_path + '/' + patientID + '/' + out_filename)"
   ]
  },
  {
   "cell_type": "code",
   "execution_count": 10,
   "metadata": {},
   "outputs": [],
   "source": [
    "def volumes_from_images(image_list):\n",
    "    \n",
    "    \"\"\" Converts a list of nii images to a single volume \"\"\"\n",
    "    \n",
    "    image_list = [np.expand_dims(x, axis=-1) for x in image_list]\n",
    "    return np.concatenate(image_list, axis=-1)"
   ]
  },
  {
   "cell_type": "code",
   "execution_count": 11,
   "metadata": {},
   "outputs": [
    {
     "data": {
      "text/plain": [
       "['CVC1901261322']"
      ]
     },
     "execution_count": 11,
     "metadata": {},
     "output_type": "execute_result"
    }
   ],
   "source": [
    "# iterate through directory, storing all filepaths\n",
    "nii_list = []\n",
    "subdir_list = []\n",
    "for (root, subdir, files) in os.walk(INPUT):\n",
    "    for sdir in subdir:\n",
    "        subdir_list.append(sdir)\n",
    "    for file in files:\n",
    "        nii_list.append(os.path.join(root, file))\n",
    "        \n",
    "# select just one patient for this analysis\n",
    "subdir_list = [subdir_list[2]]        # comment out this line to run on all patients\n",
    "subdir_list"
   ]
  },
  {
   "cell_type": "code",
   "execution_count": 12,
   "metadata": {},
   "outputs": [
    {
     "name": "stdout",
     "output_type": "stream",
     "text": [
      "Done!\n"
     ]
    }
   ],
   "source": [
    "# iterate over each patient\n",
    "for patient in subdir_list:\n",
    "    \n",
    "    print('Saving dicoms for {}'.format(patient))\n",
    "    \n",
    "    # select nii files for that patient\n",
    "    nii_files = [x for x in nii_list if patient in x]\n",
    "    \n",
    "    # load dcm corresponding to each patient (will only be used as a template)\n",
    "    # Load relevant dicom header information\n",
    "    PATH_DCM = INPUT_DCM + '\\{}'.format(patient)\n",
    "\n",
    "    for (root, subdir, files) in os.walk(PATH_DCM):\n",
    "        for file in files[-1:]:\n",
    "            dcm = pydicom.dcmread(os.path.join(root, file))\n",
    "            \n",
    "            if dcm.file_meta.TransferSyntaxUID.is_compressed is True:\n",
    "                print('compressed data!')\n",
    "                print(dcm.file_meta.TransferSyntaxUID)\n",
    "                dcm.decompress()\n",
    "   \n",
    "    image_list = []    \n",
    "    # iterate over nii files\n",
    "    for file in nii_files:\n",
    "        dcm.SeriesDescription = \"dcm from nii file (nii2dcm.ipynb)\"\n",
    "            \n",
    "        # load nii file and extract image info\n",
    "        img = nib.load(file)\n",
    "        image = np.array(img.get_fdata()).astype(np.int16)\n",
    "        image_list.append(image)\n",
    "        \n",
    "    vol = volumes_from_images(image_list)\n",
    "    \n",
    "    # create dicom files\n",
    "    create_dicoms(vol, dcm, OUT_PATH, -100.0)\n",
    "    \n",
    "    print('Done!')"
   ]
  },
  {
   "cell_type": "code",
   "execution_count": null,
   "metadata": {},
   "outputs": [],
   "source": []
  }
 ],
 "metadata": {
  "kernelspec": {
   "display_name": "Python [conda env:ucair]",
   "language": "python",
   "name": "conda-env-ucair-py"
  },
  "language_info": {
   "codemirror_mode": {
    "name": "ipython",
    "version": 3
   },
   "file_extension": ".py",
   "mimetype": "text/x-python",
   "name": "python",
   "nbconvert_exporter": "python",
   "pygments_lexer": "ipython3",
   "version": "3.6.8"
  }
 },
 "nbformat": 4,
 "nbformat_minor": 2
}
